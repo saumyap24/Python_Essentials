{
 "cells": [
  {
   "cell_type": "markdown",
   "id": "f12bc2f5",
   "metadata": {},
   "source": [
    "### Constructors in Python "
   ]
  },
  {
   "cell_type": "markdown",
   "id": "bcdef03f",
   "metadata": {},
   "source": [
    "Constructors are to assign values(intialize) members of the class when an object is created "
   ]
  },
  {
   "cell_type": "code",
   "execution_count": null,
   "id": "660f3f00",
   "metadata": {},
   "outputs": [],
   "source": []
  }
 ],
 "metadata": {
  "kernelspec": {
   "display_name": "Python 3 (ipykernel)",
   "language": "python",
   "name": "python3"
  },
  "language_info": {
   "codemirror_mode": {
    "name": "ipython",
    "version": 3
   },
   "file_extension": ".py",
   "mimetype": "text/x-python",
   "name": "python",
   "nbconvert_exporter": "python",
   "pygments_lexer": "ipython3",
   "version": "3.9.7"
  }
 },
 "nbformat": 4,
 "nbformat_minor": 5
}
