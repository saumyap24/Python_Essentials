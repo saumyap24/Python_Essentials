{
 "cells": [
  {
   "cell_type": "markdown",
   "id": "402adaf3",
   "metadata": {},
   "source": [
    "# Stack"
   ]
  },
  {
   "cell_type": "markdown",
   "id": "c08b4c50",
   "metadata": {},
   "source": [
    "### Python does not have a built-in stack type, but you can think of a stack as a constrained list. You push using list method append, which adds a new element to the end of the list. You pop using list method pop with no arguments, which removes and returns the item at the end of the list"
   ]
  },
  {
   "cell_type": "code",
   "execution_count": 5,
   "id": "0064fc8c",
   "metadata": {},
   "outputs": [
    {
     "name": "stdout",
     "output_type": "stream",
     "text": [
      "['orange', 1, 'red']\n",
      "['orange', 1]\n"
     ]
    }
   ],
   "source": [
    "stack =[] #empty stack brackets\n",
    "stack= [\"orange\",1]          #['orange', 1]\n",
    "stack.append(\"red\")    #['orange', 1, 'red']\n",
    "print(stack)\n",
    "\n",
    "stack.pop()       #red\n",
    "print(stack)\n",
    "\n"
   ]
  },
  {
   "cell_type": "markdown",
   "id": "e06d624e",
   "metadata": {},
   "source": [
    "# Hash - back maps"
   ]
  },
  {
   "cell_type": "markdown",
   "id": "f9ff1d30",
   "metadata": {},
   "source": [
    "#### A dictionary associates keys with values. Each key maps to a specific value"
   ]
  },
  {
   "cell_type": "code",
   "execution_count": 6,
   "id": "bf913a29",
   "metadata": {},
   "outputs": [
    {
     "name": "stdout",
     "output_type": "stream",
     "text": [
      "{'I': 1, 'II': 2, 'III': 3, 'V': 5, 'L': 50}\n",
      "key: I\n",
      "key: II\n",
      "key: III\n",
      "key: V\n",
      "key: L\n",
      "values: 1\n",
      "values: 2\n",
      "values: 3\n",
      "values: 5\n",
      "values: 50\n"
     ]
    },
    {
     "data": {
      "text/plain": [
       "5"
      ]
     },
     "execution_count": 6,
     "metadata": {},
     "output_type": "execute_result"
    }
   ],
   "source": [
    "#creating dictionary key value pairs\n",
    "roman_numerals = {'I': 1, 'II': 2, 'III': 3, 'V': 5, 'X': 100}\n",
    "\n",
    "#Updating the Value\n",
    "roman_numerals['X'] = 10\n",
    "\n",
    "#Adding a New Key–Value Pair\n",
    "roman_numerals['L'] = 50\n",
    "\n",
    "#Removing a Key–Value Pair\n",
    "roman_numerals.pop('X')\n",
    "\n",
    "print(roman_numerals) #print the map with key value pairs\n",
    "\n",
    "for x in roman_numerals:\n",
    "    print(\"key:\",x)  #print key\n",
    "\n",
    "for x in roman_numerals:\n",
    "    print(\"values:\",roman_numerals[x])  #print only values\n",
    "    \n",
    "roman_numerals.get('V')  #get only one value"
   ]
  },
  {
   "cell_type": "markdown",
   "id": "d3f8b63e",
   "metadata": {},
   "source": [
    "# Linked Lists"
   ]
  },
  {
   "cell_type": "markdown",
   "id": "7be8abce",
   "metadata": {},
   "source": [
    "#### Consider using a dummy head (sometimes referred to as a sentinel) to avoid having to check for empty lists. This simplifies code, and makes bugs less likely."
   ]
  },
  {
   "cell_type": "code",
   "execution_count": 2,
   "id": "1c481177",
   "metadata": {},
   "outputs": [
    {
     "ename": "SyntaxError",
     "evalue": "non-default argument follows default argument (Temp/ipykernel_15844/2927218524.py, line 2)",
     "output_type": "error",
     "traceback": [
      "\u001b[1;36m  File \u001b[1;32m\"C:\\Users\\18324\\AppData\\Local\\Temp/ipykernel_15844/2927218524.py\"\u001b[1;36m, line \u001b[1;32m2\u001b[0m\n\u001b[1;33m    def __init__(self, data=0,next_node):\u001b[0m\n\u001b[1;37m                                       ^\u001b[0m\n\u001b[1;31mSyntaxError\u001b[0m\u001b[1;31m:\u001b[0m non-default argument follows default argument\n"
     ]
    }
   ],
   "source": [
    "#prototype\n",
    "# def __init__(self, data=0,next_node):\n",
    "#     self.data= data\n",
    "#     self.next=next_node\n",
    "    \n",
    "def search_list(L,key):\n",
    "    while L and L.data != key:\n",
    "        L = L.next     #if key was not present in the list, L will have become null\n",
    "    return L\n",
    "\n",
    "#insert a new_node after node\n",
    "def insert_after(node, new_node):\n",
    "    new_node.next = node.next\n",
    "    \n",
    "#delete node\n",
    "def delete_after(node):\n",
    "    node.next = node.next.next\n",
    "    \n",
    "    \n"
   ]
  },
  {
   "cell_type": "code",
   "execution_count": null,
   "id": "722b5161",
   "metadata": {},
   "outputs": [],
   "source": []
  }
 ],
 "metadata": {
  "kernelspec": {
   "display_name": "Python 3 (ipykernel)",
   "language": "python",
   "name": "python3"
  },
  "language_info": {
   "codemirror_mode": {
    "name": "ipython",
    "version": 3
   },
   "file_extension": ".py",
   "mimetype": "text/x-python",
   "name": "python",
   "nbconvert_exporter": "python",
   "pygments_lexer": "ipython3",
   "version": "3.9.7"
  }
 },
 "nbformat": 4,
 "nbformat_minor": 5
}
